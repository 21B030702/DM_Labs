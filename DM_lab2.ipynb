{
  "nbformat": 4,
  "nbformat_minor": 0,
  "metadata": {
    "colab": {
      "provenance": [],
      "authorship_tag": "ABX9TyNPmfGNB8QH3QLdxDkHJELG",
      "include_colab_link": true
    },
    "kernelspec": {
      "name": "python3",
      "display_name": "Python 3"
    },
    "language_info": {
      "name": "python"
    }
  },
  "cells": [
    {
      "cell_type": "markdown",
      "metadata": {
        "id": "view-in-github",
        "colab_type": "text"
      },
      "source": [
        "<a href=\"https://colab.research.google.com/github/21B030702/DM_Labs/blob/main/DM_lab2.ipynb\" target=\"_parent\"><img src=\"https://colab.research.google.com/assets/colab-badge.svg\" alt=\"Open In Colab\"/></a>"
      ]
    },
    {
      "cell_type": "code",
      "execution_count": 1,
      "metadata": {
        "colab": {
          "base_uri": "https://localhost:8080/"
        },
        "id": "xJSYEBtZTxLW",
        "outputId": "57b83373-881d-4a33-d004-bdc718d20796"
      },
      "outputs": [
        {
          "output_type": "stream",
          "name": "stdout",
          "text": [
            "Выбранные признаки: ['sepal length (cm)', 'sepal width (cm)']\n"
          ]
        }
      ],
      "source": [
        "from sklearn.datasets import load_iris\n",
        "from sklearn.feature_selection import SelectKBest, chi2\n",
        "from sklearn.model_selection import train_test_split\n",
        "\n",
        "# 1. Загрузка данных iris\n",
        "iris = load_iris()\n",
        "X, y = iris.data, iris.target\n",
        "\n",
        "# 2. Разделение на обучающую и тестовую выборки\n",
        "X_train, X_test, y_train, y_test = train_test_split(X, y, test_size=0.3, random_state=42)\n",
        "\n",
        "# 3. Выбор двух лучших признаков с использованием chi2\n",
        "select_k_best = SelectKBest(chi2, k=2)\n",
        "X_train_selected = select_k_best.fit_transform(X_train, y_train)\n",
        "\n",
        "# 4. Вывод выбранных признаков\n",
        "print(\"Выбранные признаки:\", iris.feature_names[:2])"
      ]
    },
    {
      "cell_type": "code",
      "source": [
        "from sklearn.datasets import load_wine\n",
        "from sklearn.ensemble import RandomForestClassifier\n",
        "from sklearn.model_selection import train_test_split\n",
        "\n",
        "# 1. Загрузка данных Wine\n",
        "wine = load_wine()\n",
        "X, y = wine.data, wine.target\n",
        "\n",
        "# 2. Разделение на обучающую и тестовую выборки\n",
        "X_train, X_test, y_train, y_test = train_test_split(X, y, test_size=0.3, random_state=42)\n",
        "\n",
        "# 3. Обучение Random Forest\n",
        "model = RandomForestClassifier()\n",
        "model.fit(X_train, y_train)\n",
        "\n",
        "# 4. Важность признаков\n",
        "importances = model.feature_importances_\n",
        "print(\"Важность признаков:\", importances)\n"
      ],
      "metadata": {
        "colab": {
          "base_uri": "https://localhost:8080/"
        },
        "id": "Gke5qzsgVIzE",
        "outputId": "b8ab9c4b-3b97-44c6-f176-56cab2b0f460"
      },
      "execution_count": 2,
      "outputs": [
        {
          "output_type": "stream",
          "name": "stdout",
          "text": [
            "Важность признаков: [0.10666543 0.03338276 0.01099189 0.03930336 0.03183816 0.06189806\n",
            " 0.15674945 0.00959046 0.02436966 0.19672398 0.05462436 0.1412107\n",
            " 0.13265173]\n"
          ]
        }
      ]
    },
    {
      "cell_type": "code",
      "source": [
        "from sklearn.datasets import load_breast_cancer\n",
        "from sklearn.feature_selection import RFE\n",
        "from sklearn.svm import SVC\n",
        "from sklearn.model_selection import train_test_split\n",
        "\n",
        "# 1. Загрузка данных Breast Cancer\n",
        "cancer = load_breast_cancer()\n",
        "X, y = cancer.data, cancer.target\n",
        "\n",
        "# 2. Разделение на обучающую и тестовую выборки\n",
        "X_train, X_test, y_train, y_test = train_test_split(X, y, test_size=0.3, random_state=42)\n",
        "\n",
        "# 3. Использование RFE с SVM\n",
        "svc = SVC(kernel=\"linear\")\n",
        "rfe = RFE(estimator=svc, n_features_to_select=5)\n",
        "rfe.fit(X_train, y_train)\n",
        "\n",
        "# 4. Вывод отобранных признаков\n",
        "print(\"Отобранные признаки:\", cancer.feature_names[rfe.support_])"
      ],
      "metadata": {
        "colab": {
          "base_uri": "https://localhost:8080/"
        },
        "id": "1ozENC9uVLB1",
        "outputId": "701b66d3-159c-4898-bd61-4e00d14616ba"
      },
      "execution_count": 3,
      "outputs": [
        {
          "output_type": "stream",
          "name": "stdout",
          "text": [
            "Отобранные признаки: ['mean concave points' 'radius error' 'worst concavity'\n",
            " 'worst concave points' 'worst symmetry']\n"
          ]
        }
      ]
    },
    {
      "cell_type": "code",
      "source": [
        "from sklearn.datasets import load_diabetes\n",
        "from sklearn.linear_model import Lasso\n",
        "from sklearn.model_selection import train_test_split\n",
        "\n",
        "# 1. Загрузка данных Diabetes\n",
        "diabetes = load_diabetes()\n",
        "X, y = diabetes.data, diabetes.target\n",
        "\n",
        "# 2. Разделение на обучающую и тестовую выборки\n",
        "X_train, X_test, y_train, y_test = train_test_split(X, y, test_size=0.3, random_state=42)\n",
        "\n",
        "# 3. Применение Lasso (L1-регуляризация)\n",
        "lasso = Lasso(alpha=0.1)\n",
        "lasso.fit(X_train, y_train)\n",
        "\n",
        "# 4. Важность признаков\n",
        "print(\"Коэффициенты:\", lasso.coef_)"
      ],
      "metadata": {
        "colab": {
          "base_uri": "https://localhost:8080/"
        },
        "id": "e94a8qsPVPxd",
        "outputId": "c1ec5ddc-525a-4be3-f9a2-249ac4abaf93"
      },
      "execution_count": 4,
      "outputs": [
        {
          "output_type": "stream",
          "name": "stdout",
          "text": [
            "Коэффициенты: [   0.         -173.27107577  558.93812468  339.35373951  -58.72068535\n",
            "   -0.         -274.11351588    0.          372.83897776   25.58680152]\n"
          ]
        }
      ]
    },
    {
      "cell_type": "code",
      "source": [
        "from sklearn.datasets import load_iris\n",
        "from sklearn.linear_model import LogisticRegression\n",
        "from sklearn.model_selection import train_test_split\n",
        "from sklearn.metrics import accuracy_score, confusion_matrix\n",
        "\n",
        "# 1. Загрузка данных Iris\n",
        "iris = load_iris()\n",
        "X, y = iris.data, iris.target\n",
        "\n",
        "# 2. Разделение на обучающую и тестовую выборки\n",
        "X_train, X_test, y_train, y_test = train_test_split(X, y, test_size=0.3, random_state=42)\n",
        "\n",
        "# 3. Обучение Logistic Regression\n",
        "logreg = LogisticRegression(max_iter=200)\n",
        "logreg.fit(X_train, y_train)\n",
        "\n",
        "# 4. Оценка модели\n",
        "y_pred = logreg.predict(X_test)\n",
        "print(\"Точность:\", accuracy_score(y_test, y_pred))\n",
        "print(\"Матрица ошибок:\\n\", confusion_matrix(y_test, y_pred))"
      ],
      "metadata": {
        "colab": {
          "base_uri": "https://localhost:8080/"
        },
        "id": "LayhFPKMVWFl",
        "outputId": "cbd79605-a2e8-4eac-cac2-f57db6d963b2"
      },
      "execution_count": 5,
      "outputs": [
        {
          "output_type": "stream",
          "name": "stdout",
          "text": [
            "Точность: 1.0\n",
            "Матрица ошибок:\n",
            " [[19  0  0]\n",
            " [ 0 13  0]\n",
            " [ 0  0 13]]\n"
          ]
        }
      ]
    },
    {
      "cell_type": "code",
      "source": [
        "from sklearn.datasets import load_breast_cancer\n",
        "from sklearn.svm import SVC\n",
        "from sklearn.model_selection import train_test_split\n",
        "from sklearn.metrics import accuracy_score, confusion_matrix\n",
        "\n",
        "# 1. Загрузка данных Breast Cancer\n",
        "cancer = load_breast_cancer()\n",
        "X, y = cancer.data, cancer.target\n",
        "\n",
        "# 2. Разделение на обучающую и тестовую выборки\n",
        "X_train, X_test, y_train, y_test = train_test_split(X, y, test_size=0.3, random_state=42)\n",
        "\n",
        "# 3. Обучение SVM\n",
        "svm = SVC(kernel=\"linear\")\n",
        "svm.fit(X_train, y_train)\n",
        "\n",
        "# 4. Оценка модели\n",
        "y_pred = svm.predict(X_test)\n",
        "print(\"Точность:\", accuracy_score(y_test, y_pred))\n",
        "print(\"Матрица ошибок:\\n\", confusion_matrix(y_test, y_pred))"
      ],
      "metadata": {
        "colab": {
          "base_uri": "https://localhost:8080/"
        },
        "id": "6ScovfmRVcZH",
        "outputId": "6040ee08-b3fd-485c-f052-7d15f5000928"
      },
      "execution_count": 6,
      "outputs": [
        {
          "output_type": "stream",
          "name": "stdout",
          "text": [
            "Точность: 0.9649122807017544\n",
            "Матрица ошибок:\n",
            " [[ 59   4]\n",
            " [  2 106]]\n"
          ]
        }
      ]
    }
  ]
}